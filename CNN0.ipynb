{
  "nbformat": 4,
  "nbformat_minor": 0,
  "metadata": {
    "kernelspec": {
      "display_name": "Python 3",
      "language": "python",
      "name": "python3"
    },
    "language_info": {
      "codemirror_mode": {
        "name": "ipython",
        "version": 3
      },
      "file_extension": ".py",
      "mimetype": "text/x-python",
      "name": "python",
      "nbconvert_exporter": "python",
      "pygments_lexer": "ipython3",
      "version": "3.7.4"
    },
    "colab": {
      "name": "CNN0.ipynb",
      "provenance": []
    },
    "accelerator": "GPU"
  },
  "cells": [
    {
      "cell_type": "code",
      "metadata": {
        "id": "IIN6J-bSsK1F",
        "colab_type": "code",
        "colab": {}
      },
      "source": [
        "# libraries\n",
        "import pandas as pd\n",
        "import tensorflow as tf\n",
        "from tensorflow.keras import layers, models\n",
        "import numpy as np\n",
        "import matplotlib.pyplot as plt\n",
        "import scipy\n",
        "import os\n",
        "import cv2\n",
        "from sklearn.model_selection import train_test_split"
      ],
      "execution_count": 19,
      "outputs": []
    },
    {
      "cell_type": "code",
      "metadata": {
        "id": "qCLuQv-b7UzD",
        "colab_type": "code",
        "colab": {
          "base_uri": "https://localhost:8080/",
          "height": 208
        },
        "outputId": "af1f14f6-2e52-4453-e523-408c96755b27"
      },
      "source": [
        "!wget https://get.station307.com/5DWErPoEjHd/data.zip"
      ],
      "execution_count": 20,
      "outputs": [
        {
          "output_type": "stream",
          "text": [
            "--2020-08-21 04:03:22--  https://get.station307.com/5DWErPoEjHd/data.zip\n",
            "Resolving get.station307.com (get.station307.com)... 37.139.6.27\n",
            "Connecting to get.station307.com (get.station307.com)|37.139.6.27|:443... connected.\n",
            "HTTP request sent, awaiting response... 200 OK\n",
            "Length: 503919476 (481M) [application/x-zip-compressed]\n",
            "Saving to: ‘data.zip.1’\n",
            "\n",
            "data.zip.1          100%[===================>] 480.57M   502KB/s    in 13m 2s  \n",
            "\n",
            "2020-08-21 04:16:25 (629 KB/s) - ‘data.zip.1’ saved [503919476/503919476]\n",
            "\n"
          ],
          "name": "stdout"
        }
      ]
    },
    {
      "cell_type": "code",
      "metadata": {
        "id": "LpAFVL2isK1J",
        "colab_type": "code",
        "colab": {}
      },
      "source": [
        "# constants\n",
        "img_dir = 'data/images'\n",
        "data = pd.read_csv('legend.csv')\n",
        "images = data[\"image\"]\n",
        "y = data['emotion']\n",
        "y = [i.lower() for i in y]"
      ],
      "execution_count": 21,
      "outputs": []
    },
    {
      "cell_type": "code",
      "metadata": {
        "id": "VIOwWoaQHzYo",
        "colab_type": "code",
        "colab": {
          "base_uri": "https://localhost:8080/",
          "height": 121
        },
        "outputId": "0dc6dcd2-d281-4085-ef89-ba13f14f83ea"
      },
      "source": [
        "!unzip data.zip"
      ],
      "execution_count": 22,
      "outputs": [
        {
          "output_type": "stream",
          "text": [
            "Archive:  data.zip\n",
            "replace data/facial_expressions/.git/config? [y]es, [n]o, [A]ll, [N]one, [r]ename: y\n",
            "  inflating: data/facial_expressions/.git/config  \n",
            "replace data/facial_expressions/.git/description? [y]es, [n]o, [A]ll, [N]one, [r]ename: a\n",
            "error:  invalid response [a]\n",
            "replace data/facial_expressions/.git/description? [y]es, [n]o, [A]ll, [N]one, [r]ename: "
          ],
          "name": "stdout"
        }
      ]
    },
    {
      "cell_type": "code",
      "metadata": {
        "id": "9VOvb__UsK1M",
        "colab_type": "code",
        "colab": {}
      },
      "source": [
        "# image resizer\n",
        "def image_reader(location):\n",
        "    img = cv2.imread(location, 0)\n",
        "    img = cv2.resize(img, (50, 50))\n",
        "    return img"
      ],
      "execution_count": 23,
      "outputs": []
    },
    {
      "cell_type": "code",
      "metadata": {
        "id": "ZeGV2xnXsK1O",
        "colab_type": "code",
        "colab": {
          "base_uri": "https://localhost:8080/",
          "height": 35
        },
        "outputId": "8cd8641b-8001-43b7-b062-53da45557e18"
      },
      "source": [
        "emotion = set(y)\n",
        "emotion = list(emotion)\n",
        "print(emotion)\n",
        "y = [emotion.index(i) for i in y]"
      ],
      "execution_count": 24,
      "outputs": [
        {
          "output_type": "stream",
          "text": [
            "['disgust', 'happiness', 'contempt', 'fear', 'sadness', 'anger', 'neutral', 'surprise']\n"
          ],
          "name": "stdout"
        }
      ]
    },
    {
      "cell_type": "code",
      "metadata": {
        "id": "UeEPiuStsK1T",
        "colab_type": "code",
        "colab": {
          "base_uri": "https://localhost:8080/",
          "height": 35
        },
        "outputId": "ad401f1b-ec8d-455b-d9c5-aa79ae255eee"
      },
      "source": [
        "# input data\n",
        "x = []\n",
        "for img in range(len(images)):\n",
        "    location = os.path.join(img_dir, images[img])\n",
        "    x.append(image_reader(location))\n",
        "x = np.array(x)\n",
        "x = x.reshape(13690, 50, 50, 1)\n",
        "y = np.array(y)\n",
        "print('Completed')"
      ],
      "execution_count": 25,
      "outputs": [
        {
          "output_type": "stream",
          "text": [
            "Completed\n"
          ],
          "name": "stdout"
        }
      ]
    },
    {
      "cell_type": "code",
      "metadata": {
        "id": "M5L5ZMXmsK1W",
        "colab_type": "code",
        "colab": {}
      },
      "source": [
        "# model\n",
        "model = models.Sequential()\n",
        "model.add(layers.Conv2D(32, (3, 3), padding='same', activation='relu',\n",
        "                        input_shape=(50, 50, 1)))\n",
        "model.add(layers.Conv2D(32, (3, 3), padding='same', activation='relu'))\n",
        "model.add(layers.Conv2D(32, (3, 3), padding='same', activation='relu'))\n",
        "model.add(layers.MaxPooling2D(pool_size=(2, 2)))\n",
        "\n",
        "model.add(layers.Conv2D(64, (3, 3), padding='same', activation='relu'))\n",
        "model.add(layers.Conv2D(64, (3, 3), padding='same', activation='relu'))\n",
        "model.add(layers.Conv2D(64, (3, 3), padding='same', activation='relu'))\n",
        "model.add(layers.MaxPooling2D(pool_size=(2, 2)))\n",
        "\n",
        "model.add(layers.Conv2D(128, (3, 3), padding='same', activation='relu'))\n",
        "model.add(layers.Conv2D(128, (3, 3), padding='same', activation='relu'))\n",
        "model.add(layers.Conv2D(128, (3, 3), padding='same', activation='relu'))\n",
        "model.add(layers.MaxPooling2D(pool_size=(2, 2)))\n",
        "\n",
        "model.add(layers.Flatten())\n",
        "model.add(layers.Dense(64, activation='relu'))\n",
        "model.add(layers.Dense(64, activation='relu'))\n",
        "model.add(layers.Dense(8, activation='softmax'))\n",
        "\n",
        "model.compile(loss='sparse_categorical_crossentropy', optimizer='adam', metrics=['accuracy'])"
      ],
      "execution_count": 26,
      "outputs": []
    },
    {
      "cell_type": "code",
      "metadata": {
        "id": "__bjMSIgsK1Z",
        "colab_type": "code",
        "colab": {}
      },
      "source": [
        "x1, x2, y1, y2 = train_test_split(x, y, test_size = 0.3)"
      ],
      "execution_count": 27,
      "outputs": []
    },
    {
      "cell_type": "code",
      "metadata": {
        "id": "Vj8UBamYsK1c",
        "colab_type": "code",
        "colab": {
          "base_uri": "https://localhost:8080/",
          "height": 1000
        },
        "outputId": "73e9233a-4e7c-459a-94ce-d7a177dba91a"
      },
      "source": [
        "epochs = 100\n",
        "batch_size = 128\n",
        "\n",
        "history = model.fit(x1, y1, epochs=epochs,\n",
        "          validation_data=(x2, y2), shuffle=True, verbose=1)"
      ],
      "execution_count": 28,
      "outputs": [
        {
          "output_type": "stream",
          "text": [
            "Epoch 1/100\n",
            "300/300 [==============================] - 3s 11ms/step - loss: 1.0508 - accuracy: 0.5543 - val_loss: 0.8221 - val_accuracy: 0.7129\n",
            "Epoch 2/100\n",
            "300/300 [==============================] - 3s 10ms/step - loss: 0.7711 - accuracy: 0.7425 - val_loss: 0.7521 - val_accuracy: 0.7412\n",
            "Epoch 3/100\n",
            "300/300 [==============================] - 3s 10ms/step - loss: 0.6634 - accuracy: 0.7815 - val_loss: 0.6151 - val_accuracy: 0.7955\n",
            "Epoch 4/100\n",
            "300/300 [==============================] - 3s 10ms/step - loss: 0.5821 - accuracy: 0.8125 - val_loss: 0.5512 - val_accuracy: 0.8191\n",
            "Epoch 5/100\n",
            "300/300 [==============================] - 3s 10ms/step - loss: 0.5349 - accuracy: 0.8257 - val_loss: 0.5277 - val_accuracy: 0.8283\n",
            "Epoch 6/100\n",
            "300/300 [==============================] - 3s 10ms/step - loss: 0.4977 - accuracy: 0.8368 - val_loss: 0.5171 - val_accuracy: 0.8310\n",
            "Epoch 7/100\n",
            "300/300 [==============================] - 3s 10ms/step - loss: 0.4543 - accuracy: 0.8490 - val_loss: 0.5252 - val_accuracy: 0.8293\n",
            "Epoch 8/100\n",
            "300/300 [==============================] - 3s 10ms/step - loss: 0.4272 - accuracy: 0.8591 - val_loss: 0.5016 - val_accuracy: 0.8310\n",
            "Epoch 9/100\n",
            "300/300 [==============================] - 3s 10ms/step - loss: 0.4016 - accuracy: 0.8659 - val_loss: 0.5182 - val_accuracy: 0.8327\n",
            "Epoch 10/100\n",
            "300/300 [==============================] - 3s 10ms/step - loss: 0.3708 - accuracy: 0.8774 - val_loss: 0.5131 - val_accuracy: 0.8300\n",
            "Epoch 11/100\n",
            "300/300 [==============================] - 3s 10ms/step - loss: 0.3446 - accuracy: 0.8863 - val_loss: 0.4976 - val_accuracy: 0.8386\n",
            "Epoch 12/100\n",
            "300/300 [==============================] - 3s 10ms/step - loss: 0.3245 - accuracy: 0.8914 - val_loss: 0.5341 - val_accuracy: 0.8335\n",
            "Epoch 13/100\n",
            "300/300 [==============================] - 3s 10ms/step - loss: 0.2841 - accuracy: 0.9006 - val_loss: 0.5280 - val_accuracy: 0.8386\n",
            "Epoch 14/100\n",
            "300/300 [==============================] - 3s 10ms/step - loss: 0.2525 - accuracy: 0.9137 - val_loss: 0.6294 - val_accuracy: 0.8286\n",
            "Epoch 15/100\n",
            "300/300 [==============================] - 3s 10ms/step - loss: 0.2341 - accuracy: 0.9191 - val_loss: 0.6551 - val_accuracy: 0.8262\n",
            "Epoch 16/100\n",
            "300/300 [==============================] - 3s 10ms/step - loss: 0.2044 - accuracy: 0.9305 - val_loss: 0.7198 - val_accuracy: 0.8293\n",
            "Epoch 17/100\n",
            "300/300 [==============================] - 3s 10ms/step - loss: 0.1957 - accuracy: 0.9305 - val_loss: 0.7063 - val_accuracy: 0.8327\n",
            "Epoch 18/100\n",
            "300/300 [==============================] - 3s 10ms/step - loss: 0.1471 - accuracy: 0.9491 - val_loss: 0.8827 - val_accuracy: 0.8408\n",
            "Epoch 19/100\n",
            "300/300 [==============================] - 3s 10ms/step - loss: 0.1527 - accuracy: 0.9466 - val_loss: 0.7392 - val_accuracy: 0.8313\n",
            "Epoch 20/100\n",
            "300/300 [==============================] - 3s 10ms/step - loss: 0.1239 - accuracy: 0.9577 - val_loss: 0.8117 - val_accuracy: 0.8257\n",
            "Epoch 21/100\n",
            "300/300 [==============================] - 3s 10ms/step - loss: 0.1431 - accuracy: 0.9504 - val_loss: 0.7469 - val_accuracy: 0.8296\n",
            "Epoch 22/100\n",
            "300/300 [==============================] - 3s 11ms/step - loss: 0.1112 - accuracy: 0.9614 - val_loss: 0.9817 - val_accuracy: 0.8276\n",
            "Epoch 23/100\n",
            "300/300 [==============================] - 3s 10ms/step - loss: 0.1085 - accuracy: 0.9623 - val_loss: 0.7788 - val_accuracy: 0.8218\n",
            "Epoch 24/100\n",
            "300/300 [==============================] - 3s 10ms/step - loss: 0.0844 - accuracy: 0.9703 - val_loss: 0.9262 - val_accuracy: 0.8181\n",
            "Epoch 25/100\n",
            "300/300 [==============================] - 3s 10ms/step - loss: 0.0866 - accuracy: 0.9693 - val_loss: 0.8930 - val_accuracy: 0.8313\n",
            "Epoch 26/100\n",
            "300/300 [==============================] - 3s 10ms/step - loss: 0.0822 - accuracy: 0.9702 - val_loss: 1.0526 - val_accuracy: 0.8366\n",
            "Epoch 27/100\n",
            "300/300 [==============================] - 3s 10ms/step - loss: 0.0801 - accuracy: 0.9736 - val_loss: 1.0351 - val_accuracy: 0.8327\n",
            "Epoch 28/100\n",
            "300/300 [==============================] - 3s 10ms/step - loss: 0.0959 - accuracy: 0.9639 - val_loss: 1.0393 - val_accuracy: 0.8303\n",
            "Epoch 29/100\n",
            "300/300 [==============================] - 3s 10ms/step - loss: 0.0826 - accuracy: 0.9722 - val_loss: 1.0059 - val_accuracy: 0.8196\n",
            "Epoch 30/100\n",
            "300/300 [==============================] - 3s 10ms/step - loss: 0.0673 - accuracy: 0.9771 - val_loss: 0.9683 - val_accuracy: 0.8262\n",
            "Epoch 31/100\n",
            "300/300 [==============================] - 3s 10ms/step - loss: 0.0760 - accuracy: 0.9713 - val_loss: 1.2303 - val_accuracy: 0.8305\n",
            "Epoch 32/100\n",
            "300/300 [==============================] - 3s 10ms/step - loss: 0.0468 - accuracy: 0.9846 - val_loss: 1.3631 - val_accuracy: 0.8300\n",
            "Epoch 33/100\n",
            "300/300 [==============================] - 3s 10ms/step - loss: 0.0812 - accuracy: 0.9734 - val_loss: 0.9754 - val_accuracy: 0.8291\n",
            "Epoch 34/100\n",
            "300/300 [==============================] - 3s 10ms/step - loss: 0.0722 - accuracy: 0.9750 - val_loss: 1.0650 - val_accuracy: 0.8276\n",
            "Epoch 35/100\n",
            "300/300 [==============================] - 3s 10ms/step - loss: 0.0608 - accuracy: 0.9789 - val_loss: 1.1562 - val_accuracy: 0.8150\n",
            "Epoch 36/100\n",
            "300/300 [==============================] - 3s 10ms/step - loss: 0.0754 - accuracy: 0.9747 - val_loss: 1.0518 - val_accuracy: 0.8045\n",
            "Epoch 37/100\n",
            "300/300 [==============================] - 3s 10ms/step - loss: 0.0505 - accuracy: 0.9817 - val_loss: 1.1098 - val_accuracy: 0.8342\n",
            "Epoch 38/100\n",
            "300/300 [==============================] - 3s 10ms/step - loss: 0.0465 - accuracy: 0.9861 - val_loss: 1.2271 - val_accuracy: 0.8347\n",
            "Epoch 39/100\n",
            "300/300 [==============================] - 3s 10ms/step - loss: 0.0554 - accuracy: 0.9803 - val_loss: 1.1509 - val_accuracy: 0.8223\n",
            "Epoch 40/100\n",
            "300/300 [==============================] - 3s 10ms/step - loss: 0.0643 - accuracy: 0.9785 - val_loss: 1.1452 - val_accuracy: 0.8332\n",
            "Epoch 41/100\n",
            "300/300 [==============================] - 3s 10ms/step - loss: 0.0728 - accuracy: 0.9764 - val_loss: 1.3808 - val_accuracy: 0.8201\n",
            "Epoch 42/100\n",
            "300/300 [==============================] - 3s 10ms/step - loss: 0.0538 - accuracy: 0.9834 - val_loss: 1.4946 - val_accuracy: 0.8291\n",
            "Epoch 43/100\n",
            "300/300 [==============================] - 3s 10ms/step - loss: 0.0568 - accuracy: 0.9802 - val_loss: 1.1040 - val_accuracy: 0.8247\n",
            "Epoch 44/100\n",
            "300/300 [==============================] - 3s 10ms/step - loss: 0.0731 - accuracy: 0.9747 - val_loss: 1.0399 - val_accuracy: 0.8308\n",
            "Epoch 45/100\n",
            "300/300 [==============================] - 3s 10ms/step - loss: 0.0536 - accuracy: 0.9830 - val_loss: 1.2233 - val_accuracy: 0.8249\n",
            "Epoch 46/100\n",
            "300/300 [==============================] - 3s 10ms/step - loss: 0.0534 - accuracy: 0.9832 - val_loss: 1.2140 - val_accuracy: 0.8167\n",
            "Epoch 47/100\n",
            "300/300 [==============================] - 3s 10ms/step - loss: 0.0530 - accuracy: 0.9833 - val_loss: 1.4831 - val_accuracy: 0.8349\n",
            "Epoch 48/100\n",
            "300/300 [==============================] - 3s 10ms/step - loss: 0.0467 - accuracy: 0.9858 - val_loss: 1.6125 - val_accuracy: 0.8262\n",
            "Epoch 49/100\n",
            "300/300 [==============================] - 3s 10ms/step - loss: 0.0346 - accuracy: 0.9890 - val_loss: 1.3389 - val_accuracy: 0.8300\n",
            "Epoch 50/100\n",
            "300/300 [==============================] - 3s 10ms/step - loss: 0.0590 - accuracy: 0.9795 - val_loss: 1.0259 - val_accuracy: 0.8237\n",
            "Epoch 51/100\n",
            "300/300 [==============================] - 3s 10ms/step - loss: 0.0634 - accuracy: 0.9809 - val_loss: 1.1061 - val_accuracy: 0.8271\n",
            "Epoch 52/100\n",
            "300/300 [==============================] - 3s 10ms/step - loss: 0.0584 - accuracy: 0.9818 - val_loss: 1.1936 - val_accuracy: 0.8171\n",
            "Epoch 53/100\n",
            "300/300 [==============================] - 3s 10ms/step - loss: 0.0459 - accuracy: 0.9867 - val_loss: 1.2550 - val_accuracy: 0.8288\n",
            "Epoch 54/100\n",
            "300/300 [==============================] - 3s 10ms/step - loss: 0.0420 - accuracy: 0.9853 - val_loss: 1.3242 - val_accuracy: 0.8283\n",
            "Epoch 55/100\n",
            "300/300 [==============================] - 3s 10ms/step - loss: 0.0471 - accuracy: 0.9852 - val_loss: 1.0897 - val_accuracy: 0.8232\n",
            "Epoch 56/100\n",
            "300/300 [==============================] - 3s 10ms/step - loss: 0.0395 - accuracy: 0.9881 - val_loss: 1.2853 - val_accuracy: 0.8206\n",
            "Epoch 57/100\n",
            "300/300 [==============================] - 3s 10ms/step - loss: 0.0705 - accuracy: 0.9760 - val_loss: 1.1965 - val_accuracy: 0.8318\n",
            "Epoch 58/100\n",
            "300/300 [==============================] - 3s 10ms/step - loss: 0.0423 - accuracy: 0.9865 - val_loss: 1.3534 - val_accuracy: 0.8293\n",
            "Epoch 59/100\n",
            "300/300 [==============================] - 3s 10ms/step - loss: 0.0530 - accuracy: 0.9821 - val_loss: 1.3652 - val_accuracy: 0.8376\n",
            "Epoch 60/100\n",
            "300/300 [==============================] - 3s 10ms/step - loss: 0.0386 - accuracy: 0.9882 - val_loss: 1.3473 - val_accuracy: 0.8230\n",
            "Epoch 61/100\n",
            "300/300 [==============================] - 3s 10ms/step - loss: 0.0532 - accuracy: 0.9821 - val_loss: 1.5571 - val_accuracy: 0.8266\n",
            "Epoch 62/100\n",
            "300/300 [==============================] - 3s 10ms/step - loss: 0.0483 - accuracy: 0.9852 - val_loss: 1.1218 - val_accuracy: 0.8318\n",
            "Epoch 63/100\n",
            "300/300 [==============================] - 3s 10ms/step - loss: 0.0461 - accuracy: 0.9850 - val_loss: 1.4535 - val_accuracy: 0.8186\n",
            "Epoch 64/100\n",
            "300/300 [==============================] - 3s 10ms/step - loss: 0.0698 - accuracy: 0.9798 - val_loss: 1.2658 - val_accuracy: 0.8130\n",
            "Epoch 65/100\n",
            "300/300 [==============================] - 3s 10ms/step - loss: 0.0530 - accuracy: 0.9832 - val_loss: 1.2385 - val_accuracy: 0.8342\n",
            "Epoch 66/100\n",
            "300/300 [==============================] - 3s 10ms/step - loss: 0.0216 - accuracy: 0.9926 - val_loss: 1.6799 - val_accuracy: 0.8303\n",
            "Epoch 67/100\n",
            "300/300 [==============================] - 3s 10ms/step - loss: 0.0318 - accuracy: 0.9891 - val_loss: 1.2593 - val_accuracy: 0.8152\n",
            "Epoch 68/100\n",
            "300/300 [==============================] - 3s 10ms/step - loss: 0.0362 - accuracy: 0.9881 - val_loss: 1.4088 - val_accuracy: 0.8262\n",
            "Epoch 69/100\n",
            "300/300 [==============================] - 3s 10ms/step - loss: 0.0339 - accuracy: 0.9894 - val_loss: 1.4208 - val_accuracy: 0.8164\n",
            "Epoch 70/100\n",
            "300/300 [==============================] - 3s 10ms/step - loss: 0.0643 - accuracy: 0.9823 - val_loss: 1.2780 - val_accuracy: 0.8298\n",
            "Epoch 71/100\n",
            "300/300 [==============================] - 3s 10ms/step - loss: 0.0444 - accuracy: 0.9866 - val_loss: 1.4089 - val_accuracy: 0.8288\n",
            "Epoch 72/100\n",
            "300/300 [==============================] - 3s 10ms/step - loss: 0.0584 - accuracy: 0.9830 - val_loss: 1.1116 - val_accuracy: 0.8257\n",
            "Epoch 73/100\n",
            "300/300 [==============================] - 3s 10ms/step - loss: 0.0477 - accuracy: 0.9852 - val_loss: 1.3201 - val_accuracy: 0.8220\n",
            "Epoch 74/100\n",
            "300/300 [==============================] - 3s 10ms/step - loss: 0.0689 - accuracy: 0.9789 - val_loss: 1.1398 - val_accuracy: 0.8330\n",
            "Epoch 75/100\n",
            "300/300 [==============================] - 3s 10ms/step - loss: 0.0263 - accuracy: 0.9920 - val_loss: 1.3912 - val_accuracy: 0.8215\n",
            "Epoch 76/100\n",
            "300/300 [==============================] - 3s 10ms/step - loss: 0.0334 - accuracy: 0.9897 - val_loss: 1.3891 - val_accuracy: 0.8303\n",
            "Epoch 77/100\n",
            "300/300 [==============================] - 3s 10ms/step - loss: 0.0456 - accuracy: 0.9849 - val_loss: 1.3095 - val_accuracy: 0.8283\n",
            "Epoch 78/100\n",
            "300/300 [==============================] - 3s 10ms/step - loss: 0.0482 - accuracy: 0.9869 - val_loss: 1.4514 - val_accuracy: 0.8215\n",
            "Epoch 79/100\n",
            "300/300 [==============================] - 3s 10ms/step - loss: 0.0381 - accuracy: 0.9880 - val_loss: 1.3233 - val_accuracy: 0.8313\n",
            "Epoch 80/100\n",
            "300/300 [==============================] - 3s 10ms/step - loss: 0.0364 - accuracy: 0.9884 - val_loss: 1.2715 - val_accuracy: 0.8293\n",
            "Epoch 81/100\n",
            "300/300 [==============================] - 3s 10ms/step - loss: 0.0317 - accuracy: 0.9897 - val_loss: 1.4495 - val_accuracy: 0.8332\n",
            "Epoch 82/100\n",
            "300/300 [==============================] - 3s 10ms/step - loss: 0.0358 - accuracy: 0.9886 - val_loss: 1.4868 - val_accuracy: 0.8271\n",
            "Epoch 83/100\n",
            "300/300 [==============================] - 3s 10ms/step - loss: 0.0482 - accuracy: 0.9877 - val_loss: 1.1179 - val_accuracy: 0.8140\n",
            "Epoch 84/100\n",
            "300/300 [==============================] - 3s 10ms/step - loss: 0.0404 - accuracy: 0.9883 - val_loss: 1.3636 - val_accuracy: 0.8344\n",
            "Epoch 85/100\n",
            "300/300 [==============================] - 3s 10ms/step - loss: 0.0493 - accuracy: 0.9851 - val_loss: 1.3264 - val_accuracy: 0.8288\n",
            "Epoch 86/100\n",
            "300/300 [==============================] - 3s 10ms/step - loss: 0.0554 - accuracy: 0.9843 - val_loss: 1.3243 - val_accuracy: 0.8213\n",
            "Epoch 87/100\n",
            "300/300 [==============================] - 3s 10ms/step - loss: 0.0353 - accuracy: 0.9879 - val_loss: 1.3000 - val_accuracy: 0.8281\n",
            "Epoch 88/100\n",
            "300/300 [==============================] - 3s 10ms/step - loss: 0.0464 - accuracy: 0.9869 - val_loss: 1.2700 - val_accuracy: 0.8191\n",
            "Epoch 89/100\n",
            "300/300 [==============================] - 3s 10ms/step - loss: 0.0266 - accuracy: 0.9902 - val_loss: 1.5006 - val_accuracy: 0.8213\n",
            "Epoch 90/100\n",
            "300/300 [==============================] - 3s 10ms/step - loss: 0.0318 - accuracy: 0.9893 - val_loss: 1.5271 - val_accuracy: 0.8298\n",
            "Epoch 91/100\n",
            "300/300 [==============================] - 3s 10ms/step - loss: 0.0350 - accuracy: 0.9894 - val_loss: 1.5339 - val_accuracy: 0.7955\n",
            "Epoch 92/100\n",
            "300/300 [==============================] - 3s 10ms/step - loss: 0.0555 - accuracy: 0.9836 - val_loss: 1.0274 - val_accuracy: 0.8130\n",
            "Epoch 93/100\n",
            "300/300 [==============================] - 3s 10ms/step - loss: 0.0383 - accuracy: 0.9893 - val_loss: 1.4654 - val_accuracy: 0.8247\n",
            "Epoch 94/100\n",
            "300/300 [==============================] - 3s 10ms/step - loss: 0.0274 - accuracy: 0.9914 - val_loss: 1.4066 - val_accuracy: 0.8188\n",
            "Epoch 95/100\n",
            "300/300 [==============================] - 3s 10ms/step - loss: 0.0405 - accuracy: 0.9872 - val_loss: 1.2322 - val_accuracy: 0.8249\n",
            "Epoch 96/100\n",
            "300/300 [==============================] - 3s 10ms/step - loss: 0.0844 - accuracy: 0.9776 - val_loss: 1.0834 - val_accuracy: 0.8252\n",
            "Epoch 97/100\n",
            "300/300 [==============================] - 3s 10ms/step - loss: 0.0415 - accuracy: 0.9859 - val_loss: 1.4382 - val_accuracy: 0.8325\n",
            "Epoch 98/100\n",
            "300/300 [==============================] - 3s 10ms/step - loss: 0.0434 - accuracy: 0.9885 - val_loss: 1.4097 - val_accuracy: 0.8244\n",
            "Epoch 99/100\n",
            "300/300 [==============================] - 3s 10ms/step - loss: 0.0191 - accuracy: 0.9934 - val_loss: 1.4858 - val_accuracy: 0.8279\n",
            "Epoch 100/100\n",
            "300/300 [==============================] - 3s 10ms/step - loss: 0.0142 - accuracy: 0.9949 - val_loss: 1.5388 - val_accuracy: 0.8298\n"
          ],
          "name": "stdout"
        }
      ]
    },
    {
      "cell_type": "code",
      "metadata": {
        "id": "lvrWZYwFsK1e",
        "colab_type": "code",
        "colab": {}
      },
      "source": [
        "test_data = cv2.imread('test.jpg', 0)\n",
        "test_data = cv2.resize(test_data, (60, 50))\n",
        "test_data.resize(1, 50, 50, 1)"
      ],
      "execution_count": 29,
      "outputs": []
    },
    {
      "cell_type": "code",
      "metadata": {
        "id": "lqWgXMxksK1g",
        "colab_type": "code",
        "colab": {}
      },
      "source": [
        "predictions = model.predict(test_data)"
      ],
      "execution_count": 30,
      "outputs": []
    },
    {
      "cell_type": "code",
      "metadata": {
        "id": "RDRxwqNWsK1j",
        "colab_type": "code",
        "colab": {
          "base_uri": "https://localhost:8080/",
          "height": 35
        },
        "outputId": "30074400-fd81-451a-d0f4-97b4b9d80463"
      },
      "source": [
        "emotion[predictions.argmax()]"
      ],
      "execution_count": 31,
      "outputs": [
        {
          "output_type": "execute_result",
          "data": {
            "application/vnd.google.colaboratory.intrinsic+json": {
              "type": "string"
            },
            "text/plain": [
              "'happiness'"
            ]
          },
          "metadata": {
            "tags": []
          },
          "execution_count": 31
        }
      ]
    },
    {
      "cell_type": "code",
      "metadata": {
        "id": "Cqzq_AWasK1n",
        "colab_type": "code",
        "colab": {}
      },
      "source": [
        ""
      ],
      "execution_count": null,
      "outputs": []
    }
  ]
}