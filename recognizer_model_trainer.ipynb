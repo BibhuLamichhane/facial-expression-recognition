{
 "cells": [
  {
   "cell_type": "code",
   "execution_count": 1,
   "metadata": {
    "colab": {},
    "colab_type": "code",
    "id": "HSNCBiVzXJmf"
   },
   "outputs": [],
   "source": [
    "import tensorflow as tf\n",
    "from tensorflow.keras import layers, models\n",
    "import os\n",
    "import cv2\n",
    "import numpy as np\n",
    "from tensorflow.keras.utils import to_categorical"
   ]
  },
  {
   "cell_type": "code",
   "execution_count": 3,
   "metadata": {
    "colab": {
     "base_uri": "https://localhost:8080/",
     "height": 269
    },
    "colab_type": "code",
    "id": "yC744iZsXPNK",
    "outputId": "92daefdd-aa55-4e29-fef3-5fb21f82b9a8"
   },
   "outputs": [
    {
     "name": "stdout",
     "output_type": "stream",
     "text": [
      "Started the collection of the emotion \"ANGRY\"\n",
      "Emotion angry DONE!\n",
      "Started the collection of the emotion \"DISGUST\"\n",
      "Emotion disgust DONE!\n",
      "Started the collection of the emotion \"FEAR\"\n",
      "Emotion fear DONE!\n",
      "Started the collection of the emotion \"HAPPY\"\n",
      "Emotion happy DONE!\n",
      "Started the collection of the emotion \"NEUTRAL\"\n",
      "Emotion neutral DONE!\n",
      "Started the collection of the emotion \"SAD\"\n",
      "Emotion sad DONE!\n",
      "Started the collection of the emotion \"SURPRISE\"\n",
      "Emotion surprise DONE!\n",
      "Data collection complete\n"
     ]
    }
   ],
   "source": [
    "train_dir = 'images/train'\n",
    "\n",
    "emotions = ['angry', 'disgust', 'fear', 'happy', 'neutral', 'sad', 'surprise']\n",
    "\n",
    "\n",
    "x1 = []\n",
    "y1 = []\n",
    "x2 = []\n",
    "y2 = []\n",
    "for emotion in range(len(emotions)):\n",
    "    path = os.path.join(train_dir, emotions[emotion])\n",
    "    data = os.listdir(path)\n",
    "    print(f'Started the collection of the emotion \"{emotions[emotion].upper()}\"')\n",
    "    for d in data:\n",
    "        img = cv2.imread(os.path.join(path, d), 0)\n",
    "        x1.append(img)\n",
    "        y1.append(emotion)\n",
    "    print(f'Emotion {emotions[emotion]} DONE!')\n",
    "print('Data collection complete')"
   ]
  },
  {
   "cell_type": "code",
   "execution_count": 4,
   "metadata": {
    "colab": {},
    "colab_type": "code",
    "id": "1Ypa5XwlXWHi"
   },
   "outputs": [],
   "source": [
    "x1 = np.array(x1)\n",
    "y1 = np.array(y1)"
   ]
  },
  {
   "cell_type": "code",
   "execution_count": 5,
   "metadata": {
    "colab": {
     "base_uri": "https://localhost:8080/",
     "height": 34
    },
    "colab_type": "code",
    "id": "GbMGx9eAXcEg",
    "outputId": "9f292206-4928-4f52-cade-9e12adb8b732"
   },
   "outputs": [
    {
     "data": {
      "text/plain": [
       "(28821,)"
      ]
     },
     "execution_count": 5,
     "metadata": {
      "tags": []
     },
     "output_type": "execute_result"
    }
   ],
   "source": [
    "x1 = x1.reshape(28821, 48, 48, 1)\n",
    "y1.shape"
   ]
  },
  {
   "cell_type": "code",
   "execution_count": 6,
   "metadata": {
    "colab": {},
    "colab_type": "code",
    "id": "0y2-xuIKY1GI"
   },
   "outputs": [],
   "source": [
    "y1 = to_categorical(y1, 7)"
   ]
  },
  {
   "cell_type": "code",
   "execution_count": 7,
   "metadata": {
    "colab": {},
    "colab_type": "code",
    "id": "NZbBFPxKZCxl"
   },
   "outputs": [],
   "source": [
    "model = models.Sequential()\n",
    "\n",
    "# 1st convolution layer\n",
    "model.add(layers.Conv2D(64, (5, 5), activation='relu', input_shape=(48, 48, 1)))\n",
    "model.add(layers.MaxPooling2D(pool_size=(5, 5), strides=(2, 2)))\n",
    "\n",
    "# 2nd convolution layer\n",
    "model.add(layers.Conv2D(64, (3, 3), activation='relu'))\n",
    "model.add(layers.Conv2D(64, (3, 3), activation='relu'))\n",
    "model.add(layers.AveragePooling2D(pool_size=(3, 3), strides=(2, 2)))\n",
    "\n",
    "# 3rd convolution layer\n",
    "model.add(layers.Conv2D(128, (3, 3), activation='relu'))\n",
    "model.add(layers.Conv2D(128, (3, 3), activation='relu'))\n",
    "model.add(layers.AveragePooling2D(pool_size=(3, 3), strides=(2, 2)))\n",
    "\n",
    "model.add(layers.Flatten())\n",
    "\n",
    "# fully connected neural networks\n",
    "model.add(layers.Dense(1024, activation='relu'))\n",
    "model.add(layers.Dropout(0.2))\n",
    "model.add(layers.Dense(1024, activation='relu'))\n",
    "model.add(layers.Dropout(0.2))\n",
    "\n",
    "model.add(layers.Dense(7, activation='softmax'))"
   ]
  },
  {
   "cell_type": "code",
   "execution_count": 8,
   "metadata": {
    "colab": {
     "base_uri": "https://localhost:8080/",
     "height": 1000
    },
    "colab_type": "code",
    "id": "icofT3b3ZpOG",
    "outputId": "3608f794-212c-4ba0-e616-040145cca5d7"
   },
   "outputs": [
    {
     "name": "stdout",
     "output_type": "stream",
     "text": [
      "Epoch 1/100\n",
      "226/226 [==============================] - 3s 14ms/step - loss: 1.8479 - accuracy: 0.2497\n",
      "Epoch 2/100\n",
      "226/226 [==============================] - 3s 14ms/step - loss: 1.6742 - accuracy: 0.3278\n",
      "Epoch 3/100\n",
      "226/226 [==============================] - 3s 13ms/step - loss: 1.5392 - accuracy: 0.3982\n",
      "Epoch 4/100\n",
      "226/226 [==============================] - 3s 13ms/step - loss: 1.4237 - accuracy: 0.4522\n",
      "Epoch 5/100\n",
      "226/226 [==============================] - 3s 13ms/step - loss: 1.3447 - accuracy: 0.4836\n",
      "Epoch 6/100\n",
      "226/226 [==============================] - 3s 14ms/step - loss: 1.2755 - accuracy: 0.5143\n",
      "Epoch 7/100\n",
      "226/226 [==============================] - 3s 13ms/step - loss: 1.2168 - accuracy: 0.5386\n",
      "Epoch 8/100\n",
      "226/226 [==============================] - 3s 14ms/step - loss: 1.1631 - accuracy: 0.5592\n",
      "Epoch 9/100\n",
      "226/226 [==============================] - 3s 14ms/step - loss: 1.1167 - accuracy: 0.5741\n",
      "Epoch 10/100\n",
      "226/226 [==============================] - 3s 14ms/step - loss: 1.0785 - accuracy: 0.5920\n",
      "Epoch 11/100\n",
      "226/226 [==============================] - 3s 14ms/step - loss: 1.0236 - accuracy: 0.6153\n",
      "Epoch 12/100\n",
      "226/226 [==============================] - 3s 14ms/step - loss: 0.9769 - accuracy: 0.6298\n",
      "Epoch 13/100\n",
      "226/226 [==============================] - 3s 14ms/step - loss: 0.9193 - accuracy: 0.6516\n",
      "Epoch 14/100\n",
      "226/226 [==============================] - 3s 14ms/step - loss: 0.8512 - accuracy: 0.6771\n",
      "Epoch 15/100\n",
      "226/226 [==============================] - 3s 14ms/step - loss: 0.8027 - accuracy: 0.6969\n",
      "Epoch 16/100\n",
      "226/226 [==============================] - 3s 14ms/step - loss: 0.7378 - accuracy: 0.7237\n",
      "Epoch 17/100\n",
      "226/226 [==============================] - 3s 14ms/step - loss: 0.6801 - accuracy: 0.7469\n",
      "Epoch 18/100\n",
      "226/226 [==============================] - 3s 14ms/step - loss: 0.6265 - accuracy: 0.7672\n",
      "Epoch 19/100\n",
      "226/226 [==============================] - 3s 14ms/step - loss: 0.5742 - accuracy: 0.7874\n",
      "Epoch 20/100\n",
      "226/226 [==============================] - 3s 14ms/step - loss: 0.5184 - accuracy: 0.8079\n",
      "Epoch 21/100\n",
      "226/226 [==============================] - 3s 14ms/step - loss: 0.4650 - accuracy: 0.8276\n",
      "Epoch 22/100\n",
      "226/226 [==============================] - 3s 13ms/step - loss: 0.4379 - accuracy: 0.8381\n",
      "Epoch 23/100\n",
      "226/226 [==============================] - 3s 14ms/step - loss: 0.3969 - accuracy: 0.8553\n",
      "Epoch 24/100\n",
      "226/226 [==============================] - 3s 14ms/step - loss: 0.3572 - accuracy: 0.8707\n",
      "Epoch 25/100\n",
      "226/226 [==============================] - 3s 14ms/step - loss: 0.3429 - accuracy: 0.8755\n",
      "Epoch 26/100\n",
      "226/226 [==============================] - 3s 14ms/step - loss: 0.3118 - accuracy: 0.8870\n",
      "Epoch 27/100\n",
      "226/226 [==============================] - 3s 14ms/step - loss: 0.2763 - accuracy: 0.9015\n",
      "Epoch 28/100\n",
      "226/226 [==============================] - 3s 14ms/step - loss: 0.2611 - accuracy: 0.9064\n",
      "Epoch 29/100\n",
      "226/226 [==============================] - 3s 14ms/step - loss: 0.2463 - accuracy: 0.9124\n",
      "Epoch 30/100\n",
      "226/226 [==============================] - 3s 14ms/step - loss: 0.2409 - accuracy: 0.9140\n",
      "Epoch 31/100\n",
      "226/226 [==============================] - 3s 14ms/step - loss: 0.2142 - accuracy: 0.9229\n",
      "Epoch 32/100\n",
      "226/226 [==============================] - 3s 14ms/step - loss: 0.2039 - accuracy: 0.9293\n",
      "Epoch 33/100\n",
      "226/226 [==============================] - 3s 14ms/step - loss: 0.2088 - accuracy: 0.9268\n",
      "Epoch 34/100\n",
      "226/226 [==============================] - 3s 14ms/step - loss: 0.1853 - accuracy: 0.9345\n",
      "Epoch 35/100\n",
      "226/226 [==============================] - 3s 14ms/step - loss: 0.1978 - accuracy: 0.9308\n",
      "Epoch 36/100\n",
      "226/226 [==============================] - 3s 14ms/step - loss: 0.1664 - accuracy: 0.9430\n",
      "Epoch 37/100\n",
      "226/226 [==============================] - 3s 14ms/step - loss: 0.1611 - accuracy: 0.9421\n",
      "Epoch 38/100\n",
      "226/226 [==============================] - 3s 14ms/step - loss: 0.1742 - accuracy: 0.9403\n",
      "Epoch 39/100\n",
      "226/226 [==============================] - 3s 14ms/step - loss: 0.1703 - accuracy: 0.9404\n",
      "Epoch 40/100\n",
      "226/226 [==============================] - 3s 14ms/step - loss: 0.1411 - accuracy: 0.9518\n",
      "Epoch 41/100\n",
      "226/226 [==============================] - 3s 14ms/step - loss: 0.1385 - accuracy: 0.9520\n",
      "Epoch 42/100\n",
      "226/226 [==============================] - 3s 14ms/step - loss: 0.1648 - accuracy: 0.9449\n",
      "Epoch 43/100\n",
      "226/226 [==============================] - 3s 14ms/step - loss: 0.1262 - accuracy: 0.9572\n",
      "Epoch 44/100\n",
      "226/226 [==============================] - 3s 14ms/step - loss: 0.1656 - accuracy: 0.9436\n",
      "Epoch 45/100\n",
      "226/226 [==============================] - 3s 14ms/step - loss: 0.1308 - accuracy: 0.9548\n",
      "Epoch 46/100\n",
      "226/226 [==============================] - 3s 14ms/step - loss: 0.1210 - accuracy: 0.9595\n",
      "Epoch 47/100\n",
      "226/226 [==============================] - 3s 14ms/step - loss: 0.1449 - accuracy: 0.9505\n",
      "Epoch 48/100\n",
      "226/226 [==============================] - 3s 14ms/step - loss: 0.1339 - accuracy: 0.9558\n",
      "Epoch 49/100\n",
      "226/226 [==============================] - 3s 14ms/step - loss: 0.1371 - accuracy: 0.9540\n",
      "Epoch 50/100\n",
      "226/226 [==============================] - 3s 14ms/step - loss: 0.1183 - accuracy: 0.9608\n",
      "Epoch 51/100\n",
      "226/226 [==============================] - 3s 14ms/step - loss: 0.1245 - accuracy: 0.9592\n",
      "Epoch 52/100\n",
      "226/226 [==============================] - 3s 14ms/step - loss: 0.1375 - accuracy: 0.9534\n",
      "Epoch 53/100\n",
      "226/226 [==============================] - 3s 14ms/step - loss: 0.1024 - accuracy: 0.9659\n",
      "Epoch 54/100\n",
      "226/226 [==============================] - 3s 14ms/step - loss: 0.1331 - accuracy: 0.9545\n",
      "Epoch 55/100\n",
      "226/226 [==============================] - 3s 14ms/step - loss: 0.1277 - accuracy: 0.9567\n",
      "Epoch 56/100\n",
      "226/226 [==============================] - 3s 14ms/step - loss: 0.1196 - accuracy: 0.9598\n",
      "Epoch 57/100\n",
      "226/226 [==============================] - 3s 14ms/step - loss: 0.1489 - accuracy: 0.9508\n",
      "Epoch 58/100\n",
      "226/226 [==============================] - 3s 13ms/step - loss: 0.1362 - accuracy: 0.9539\n",
      "Epoch 59/100\n",
      "226/226 [==============================] - 3s 13ms/step - loss: 0.0986 - accuracy: 0.9688\n",
      "Epoch 60/100\n",
      "226/226 [==============================] - 3s 14ms/step - loss: 0.1084 - accuracy: 0.9641\n",
      "Epoch 61/100\n",
      "226/226 [==============================] - 3s 13ms/step - loss: 0.1259 - accuracy: 0.9587\n",
      "Epoch 62/100\n",
      "226/226 [==============================] - 3s 14ms/step - loss: 0.1014 - accuracy: 0.9652\n",
      "Epoch 63/100\n",
      "226/226 [==============================] - 3s 14ms/step - loss: 0.1326 - accuracy: 0.9579\n",
      "Epoch 64/100\n",
      "226/226 [==============================] - 3s 14ms/step - loss: 0.0991 - accuracy: 0.9671\n",
      "Epoch 65/100\n",
      "226/226 [==============================] - 3s 14ms/step - loss: 0.1667 - accuracy: 0.9469\n",
      "Epoch 66/100\n",
      "226/226 [==============================] - 3s 14ms/step - loss: 0.1125 - accuracy: 0.9620\n",
      "Epoch 67/100\n",
      "226/226 [==============================] - 3s 13ms/step - loss: 0.1091 - accuracy: 0.9646\n",
      "Epoch 68/100\n",
      "226/226 [==============================] - 3s 14ms/step - loss: 0.1106 - accuracy: 0.9628\n",
      "Epoch 69/100\n",
      "226/226 [==============================] - 3s 14ms/step - loss: 0.1291 - accuracy: 0.9572\n",
      "Epoch 70/100\n",
      "226/226 [==============================] - 3s 14ms/step - loss: 0.1099 - accuracy: 0.9648\n",
      "Epoch 71/100\n",
      "226/226 [==============================] - 3s 14ms/step - loss: 0.1133 - accuracy: 0.9642\n",
      "Epoch 72/100\n",
      "226/226 [==============================] - 3s 14ms/step - loss: 0.1092 - accuracy: 0.9639\n",
      "Epoch 73/100\n",
      "226/226 [==============================] - 3s 13ms/step - loss: 0.1044 - accuracy: 0.9649\n",
      "Epoch 74/100\n",
      "226/226 [==============================] - 3s 14ms/step - loss: 0.1028 - accuracy: 0.9668\n",
      "Epoch 75/100\n",
      "226/226 [==============================] - 3s 14ms/step - loss: 0.1227 - accuracy: 0.9611\n",
      "Epoch 76/100\n",
      "226/226 [==============================] - 3s 14ms/step - loss: 0.0941 - accuracy: 0.9683\n",
      "Epoch 77/100\n",
      "226/226 [==============================] - 3s 14ms/step - loss: 0.1074 - accuracy: 0.9651\n",
      "Epoch 78/100\n",
      "226/226 [==============================] - 3s 13ms/step - loss: 0.1061 - accuracy: 0.9658\n",
      "Epoch 79/100\n",
      "226/226 [==============================] - 3s 14ms/step - loss: 0.1066 - accuracy: 0.9657\n",
      "Epoch 80/100\n",
      "226/226 [==============================] - 3s 14ms/step - loss: 0.0953 - accuracy: 0.9695\n",
      "Epoch 81/100\n",
      "226/226 [==============================] - 3s 14ms/step - loss: 0.0977 - accuracy: 0.9685\n",
      "Epoch 82/100\n",
      "226/226 [==============================] - 3s 14ms/step - loss: 0.0959 - accuracy: 0.9694\n",
      "Epoch 83/100\n",
      "226/226 [==============================] - 3s 14ms/step - loss: 0.1063 - accuracy: 0.9657\n",
      "Epoch 84/100\n",
      "226/226 [==============================] - 3s 14ms/step - loss: 0.1268 - accuracy: 0.9585\n",
      "Epoch 85/100\n",
      "226/226 [==============================] - 3s 14ms/step - loss: 0.1011 - accuracy: 0.9676\n",
      "Epoch 86/100\n",
      "226/226 [==============================] - 3s 14ms/step - loss: 0.1046 - accuracy: 0.9666\n",
      "Epoch 87/100\n",
      "226/226 [==============================] - 3s 13ms/step - loss: 0.0872 - accuracy: 0.9710\n",
      "Epoch 88/100\n",
      "226/226 [==============================] - 3s 14ms/step - loss: 0.0813 - accuracy: 0.9738\n",
      "Epoch 89/100\n",
      "226/226 [==============================] - 3s 14ms/step - loss: 0.1037 - accuracy: 0.9682\n",
      "Epoch 90/100\n",
      "226/226 [==============================] - 3s 13ms/step - loss: 0.1270 - accuracy: 0.9593\n",
      "Epoch 91/100\n",
      "226/226 [==============================] - 3s 14ms/step - loss: 0.0907 - accuracy: 0.9712\n",
      "Epoch 92/100\n",
      "226/226 [==============================] - 3s 13ms/step - loss: 0.0935 - accuracy: 0.9718\n",
      "Epoch 93/100\n",
      "226/226 [==============================] - 3s 14ms/step - loss: 0.0862 - accuracy: 0.9718\n",
      "Epoch 94/100\n",
      "226/226 [==============================] - 3s 14ms/step - loss: 0.1134 - accuracy: 0.9638\n",
      "Epoch 95/100\n",
      "226/226 [==============================] - 3s 14ms/step - loss: 0.1135 - accuracy: 0.9634\n",
      "Epoch 96/100\n",
      "226/226 [==============================] - 3s 13ms/step - loss: 0.1062 - accuracy: 0.9664\n",
      "Epoch 97/100\n",
      "226/226 [==============================] - 3s 13ms/step - loss: 0.0983 - accuracy: 0.9677\n",
      "Epoch 98/100\n",
      "226/226 [==============================] - 3s 14ms/step - loss: 0.0911 - accuracy: 0.9721\n",
      "Epoch 99/100\n",
      "226/226 [==============================] - 3s 14ms/step - loss: 0.0961 - accuracy: 0.9701\n",
      "Epoch 100/100\n",
      "226/226 [==============================] - 3s 13ms/step - loss: 0.1027 - accuracy: 0.9671\n"
     ]
    }
   ],
   "source": [
    "epochs = 100\n",
    "batch_size = 128\n",
    "\n",
    "model.compile(loss='categorical_crossentropy', optimizer=tf.keras.optimizers.Adam(), metrics=['accuracy'])\n",
    "\n",
    "model.fit(x1, y1, batch_size=batch_size, epochs=epochs)\n",
    "\n",
    "model.save('mode.h5')"
   ]
  },
  {
   "cell_type": "code",
   "execution_count": null,
   "metadata": {
    "colab": {},
    "colab_type": "code",
    "id": "q5kYBgv1ZskH"
   },
   "outputs": [],
   "source": []
  }
 ],
 "metadata": {
  "accelerator": "GPU",
  "colab": {
   "name": "recognizer model trainer.ipynb",
   "provenance": []
  },
  "kernelspec": {
   "display_name": "Python 3",
   "language": "python",
   "name": "python3"
  },
  "language_info": {
   "codemirror_mode": {
    "name": "ipython",
    "version": 3
   },
   "file_extension": ".py",
   "mimetype": "text/x-python",
   "name": "python",
   "nbconvert_exporter": "python",
   "pygments_lexer": "ipython3",
   "version": "3.6.10"
  }
 },
 "nbformat": 4,
 "nbformat_minor": 1
}
